{
 "cells": [
  {
   "cell_type": "markdown",
   "metadata": {
    "colab_type": "text",
    "id": "2PjXVFmsc-kh"
   },
   "source": [
    "##READING FILES"
   ]
  },
  {
   "cell_type": "code",
   "execution_count": 2,
   "metadata": {},
   "outputs": [
    {
     "name": "stdout",
     "output_type": "stream",
     "text": [
      "E:\\s1 to s8\n"
     ]
    }
   ],
   "source": [
    "cd E:\\s1 to s8"
   ]
  },
  {
   "cell_type": "code",
   "execution_count": 3,
   "metadata": {
    "colab": {
     "base_uri": "https://localhost:8080/",
     "height": 168
    },
    "colab_type": "code",
    "executionInfo": {
     "elapsed": 41376,
     "status": "ok",
     "timestamp": 1584365445184,
     "user": {
      "displayName": "hemanth kumar",
      "photoUrl": "https://lh3.googleusercontent.com/a-/AOh14GiaTFmdWzPcLac_44SS1Cs21rHx8agb-zmqGbdI=s64",
      "userId": "15204280836876127386"
     },
     "user_tz": -330
    },
    "id": "tGBsfIYFSm50",
    "outputId": "2a7fcf7b-b472-46ee-f32d-6193a01a0c5c"
   },
   "outputs": [
    {
     "name": "stdout",
     "output_type": "stream",
     "text": [
      "enter no.of sheets uploading8\n",
      "enter file namess1.xlsx\n",
      "enter file namess2.xlsx\n",
      "enter file namess3.xlsx\n",
      "enter file namess4.xlsx\n",
      "enter file namess5.xlsx\n",
      "enter file namess6.xlsx\n",
      "enter file namess7.xlsx\n",
      "enter file namess8.xlsx\n"
     ]
    }
   ],
   "source": [
    "import pandas as pd\n",
    "n=int(input('enter no.of sheets uploading'))\n",
    "dfs=[]\n",
    "dfs1=[]\n",
    "for j in range(n):\n",
    "    dfs.append(j)\n",
    "    dfs1.append(j)\n",
    "\n",
    "for i in range(n):\n",
    "    y=input(\"enter file name\")\n",
    "    #x=input(\"enter sheet name\")\n",
    "    dfs[i]= pd.read_excel(y,sheet_name='Sheet1')\n",
    "    dfs1[i]= pd.read_excel(y,sheet_name='Sheet1')"
   ]
  },
  {
   "cell_type": "code",
   "execution_count": null,
   "metadata": {
    "colab": {},
    "colab_type": "code",
    "id": "JBHDkaBrWL5W"
   },
   "outputs": [],
   "source": []
  },
  {
   "cell_type": "code",
   "execution_count": 4,
   "metadata": {
    "colab": {},
    "colab_type": "code",
    "id": "DSzAVateSm58"
   },
   "outputs": [],
   "source": [
    "for i in range(n):\n",
    "    dfs[i]=dfs[i][['Reg No','CGPA']]\n",
    "    dfs[i].fillna(0)"
   ]
  },
  {
   "cell_type": "code",
   "execution_count": null,
   "metadata": {
    "colab": {},
    "colab_type": "code",
    "id": "sYEsKZ2ySm6B"
   },
   "outputs": [],
   "source": []
  },
  {
   "cell_type": "code",
   "execution_count": null,
   "metadata": {
    "colab": {},
    "colab_type": "code",
    "id": "hjRhdBWMSm6F"
   },
   "outputs": [],
   "source": []
  },
  {
   "cell_type": "markdown",
   "metadata": {
    "colab_type": "text",
    "id": "EapYducpSm6J"
   },
   "source": [
    "detained list"
   ]
  },
  {
   "cell_type": "markdown",
   "metadata": {
    "colab_type": "text",
    "id": "lNu-ZC3GdJhv"
   },
   "source": [
    "DETAIN LIST"
   ]
  },
  {
   "cell_type": "markdown",
   "metadata": {
    "colab_type": "text",
    "id": "4Mf_AByDdzBF"
   },
   "source": [
    "taking registration numbers from all the files"
   ]
  },
  {
   "cell_type": "code",
   "execution_count": 5,
   "metadata": {
    "colab": {},
    "colab_type": "code",
    "id": "wGUC_BC7Sm6P"
   },
   "outputs": [],
   "source": [
    "for i in range(n):\n",
    "    dfs1[i]=dfs1[i][['Reg No']]\n",
    "    dfs1[i].fillna(0)"
   ]
  },
  {
   "cell_type": "code",
   "execution_count": 6,
   "metadata": {
    "colab": {},
    "colab_type": "code",
    "id": "0IadTowtU5Cr"
   },
   "outputs": [],
   "source": [
    "a=[]"
   ]
  },
  {
   "cell_type": "markdown",
   "metadata": {
    "colab_type": "text",
    "id": "PsL7Qja7ix0R"
   },
   "source": [
    "FINDING 'Reg No' WHICH ARE NOT IN THE CORESPONDING SEMISTERS"
   ]
  },
  {
   "cell_type": "code",
   "execution_count": 7,
   "metadata": {
    "colab": {},
    "colab_type": "code",
    "id": "lwIeA_ZKSm6U"
   },
   "outputs": [],
   "source": [
    "for i in range(n-1):\n",
    "    x=dfs1[i+1].append(dfs1[i])\n",
    "    y=x.drop_duplicates(keep=False)\n",
    "    a.append(y)\n",
    "    a[i].insert(1,'detained_in_sem',i)"
   ]
  },
  {
   "cell_type": "markdown",
   "metadata": {
    "colab_type": "text",
    "id": "Raas5oJ3jJn6"
   },
   "source": [
    "CREATING COLUMN TO INDICATE IN WHICH SEMISTER 'Reg No' IS DETAINED"
   ]
  },
  {
   "cell_type": "code",
   "execution_count": 8,
   "metadata": {
    "colab": {},
    "colab_type": "code",
    "id": "lzT21pX5Sm6Y"
   },
   "outputs": [],
   "source": [
    "for i in range(n-1):\n",
    "    if i is 0:\n",
    "        a[i]['detained_in_sem']=i+2\n",
    "        d=a[i]\n",
    "    else:\n",
    "        a[i]['detained_in_sem']=i+2\n",
    "        d=d.append(a[i])"
   ]
  },
  {
   "cell_type": "markdown",
   "metadata": {
    "colab_type": "text",
    "id": "zGxf45BBjaxQ"
   },
   "source": [
    "FINAL DETAIN LIST IS IN OBJECT 'd'."
   ]
  },
  {
   "cell_type": "code",
   "execution_count": null,
   "metadata": {
    "colab": {},
    "colab_type": "code",
    "id": "sEBZ5kfVSm6e"
   },
   "outputs": [],
   "source": []
  },
  {
   "cell_type": "code",
   "execution_count": null,
   "metadata": {
    "colab": {},
    "colab_type": "code",
    "id": "DfG68Na6Sm6j"
   },
   "outputs": [],
   "source": []
  },
  {
   "cell_type": "code",
   "execution_count": null,
   "metadata": {
    "colab": {},
    "colab_type": "code",
    "id": "7YkxdOVhSm6n"
   },
   "outputs": [],
   "source": []
  },
  {
   "cell_type": "code",
   "execution_count": null,
   "metadata": {
    "colab": {},
    "colab_type": "code",
    "id": "WpUDnArsSm6r"
   },
   "outputs": [],
   "source": []
  },
  {
   "cell_type": "code",
   "execution_count": null,
   "metadata": {
    "colab": {},
    "colab_type": "code",
    "id": "LzA0ddLrSm6w"
   },
   "outputs": [],
   "source": []
  },
  {
   "cell_type": "markdown",
   "metadata": {
    "colab_type": "text",
    "id": "_1kKIopzSm6z"
   },
   "source": [
    "list for students still having backlogs"
   ]
  },
  {
   "cell_type": "code",
   "execution_count": null,
   "metadata": {
    "colab": {},
    "colab_type": "code",
    "id": "JeSEecAASm61"
   },
   "outputs": [],
   "source": []
  },
  {
   "cell_type": "code",
   "execution_count": 9,
   "metadata": {
    "colab": {},
    "colab_type": "code",
    "id": "Vnsrkvl0Sm64"
   },
   "outputs": [],
   "source": [
    "w_b=dfs[n-1][dfs[n-1].CGPA.isin(range(0,1))]\n",
    "w_b.reset_index( inplace = True,drop=True)"
   ]
  },
  {
   "cell_type": "code",
   "execution_count": null,
   "metadata": {
    "colab": {},
    "colab_type": "code",
    "id": "HrM2EqecSm6-"
   },
   "outputs": [],
   "source": []
  },
  {
   "cell_type": "code",
   "execution_count": null,
   "metadata": {
    "colab": {},
    "colab_type": "code",
    "id": "UKlhmESxSm7B"
   },
   "outputs": [],
   "source": []
  },
  {
   "cell_type": "markdown",
   "metadata": {
    "colab_type": "text",
    "id": "jSJo6TqQSm7E"
   },
   "source": [
    "list for students cleared subjects in 1st attempt"
   ]
  },
  {
   "cell_type": "code",
   "execution_count": 10,
   "metadata": {
    "colab": {
     "base_uri": "https://localhost:8080/",
     "height": 101
    },
    "colab_type": "code",
    "executionInfo": {
     "elapsed": 889,
     "status": "ok",
     "timestamp": 1584365723483,
     "user": {
      "displayName": "hemanth kumar",
      "photoUrl": "https://lh3.googleusercontent.com/a-/AOh14GiaTFmdWzPcLac_44SS1Cs21rHx8agb-zmqGbdI=s64",
      "userId": "15204280836876127386"
     },
     "user_tz": -330
    },
    "id": "m5BCVdZpSm7G",
    "outputId": "990ee811-6d00-425b-d4e5-02ab8ae74f98"
   },
   "outputs": [
    {
     "name": "stderr",
     "output_type": "stream",
     "text": [
      "C:\\Users\\nandi\\Anaconda3\\lib\\site-packages\\pandas\\core\\frame.py:4223: SettingWithCopyWarning: \n",
      "A value is trying to be set on a copy of a slice from a DataFrame\n",
      "\n",
      "See the caveats in the documentation: http://pandas.pydata.org/pandas-docs/stable/user_guide/indexing.html#returning-a-view-versus-a-copy\n",
      "  return super().rename(**kwargs)\n"
     ]
    }
   ],
   "source": [
    "w_o_b2=dfs[0][~dfs[0].CGPA.isin(range(0,1))]\n",
    "for i in range(n-1):\n",
    "    j=str(i+1)\n",
    "    z='CGPA'+j\n",
    "    w_o_b1=dfs[i+1][~dfs[i+1].CGPA.isin(range(0,1))]\n",
    "    w_o_b2.rename(columns={'CGPA':z}, inplace=True)\n",
    "    w_o_b2=pd.merge(w_o_b2,w_o_b1,on='Reg No',how='outer')\n",
    "    w_o_b=w_o_b2.dropna()\n",
    "    \n",
    "j=str(n)\n",
    "z='CGPA'+j\n",
    "w_o_b.rename(columns={'CGPA':z}, inplace=True)\n",
    "w_o_b2.rename(columns={'CGPA':z}, inplace=True)"
   ]
  },
  {
   "cell_type": "code",
   "execution_count": 11,
   "metadata": {
    "colab": {},
    "colab_type": "code",
    "id": "wdJSmHZFSm7K"
   },
   "outputs": [],
   "source": [
    "w_o_b.reset_index( inplace = True,drop=True)"
   ]
  },
  {
   "cell_type": "code",
   "execution_count": null,
   "metadata": {
    "colab": {},
    "colab_type": "code",
    "id": "w0YzWGTbjsu7"
   },
   "outputs": [],
   "source": []
  },
  {
   "cell_type": "markdown",
   "metadata": {
    "colab_type": "text",
    "id": "OS6t7ZjRjvB4"
   },
   "source": [
    "LIST FOR STUDENTS PASSED IN MORE THAN ONE ATTEMPT."
   ]
  },
  {
   "cell_type": "code",
   "execution_count": 12,
   "metadata": {
    "colab": {},
    "colab_type": "code",
    "id": "l4l7HskrSm7X"
   },
   "outputs": [],
   "source": [
    "w_o_b2=w_o_b2.append(w_o_b)"
   ]
  },
  {
   "cell_type": "code",
   "execution_count": 13,
   "metadata": {
    "colab": {},
    "colab_type": "code",
    "id": "56Og_R07Sm7b"
   },
   "outputs": [],
   "source": [
    "p_w_b1=w_o_b2.drop_duplicates(keep=False)"
   ]
  },
  {
   "cell_type": "code",
   "execution_count": 14,
   "metadata": {
    "colab": {},
    "colab_type": "code",
    "id": "8uBOQeFjSm7f"
   },
   "outputs": [],
   "source": [
    "h1=p_w_b1[(p_w_b1['CGPA8']>2)]"
   ]
  },
  {
   "cell_type": "code",
   "execution_count": 15,
   "metadata": {
    "colab": {},
    "colab_type": "code",
    "id": "yKSFcw0lSm7i"
   },
   "outputs": [],
   "source": [
    "p_w_b=h1.sort_values(by=['Reg No'])"
   ]
  },
  {
   "cell_type": "code",
   "execution_count": 16,
   "metadata": {
    "colab": {},
    "colab_type": "code",
    "id": "dsMYJ8e7Sm7m"
   },
   "outputs": [],
   "source": [
    "p_w_b.reset_index( inplace = True,drop=True)"
   ]
  },
  {
   "cell_type": "code",
   "execution_count": 17,
   "metadata": {
    "colab": {},
    "colab_type": "code",
    "id": "uO18XkpjSm7p"
   },
   "outputs": [],
   "source": [
    "p_w_b=p_w_b.fillna(0)"
   ]
  },
  {
   "cell_type": "code",
   "execution_count": null,
   "metadata": {
    "colab": {},
    "colab_type": "code",
    "id": "wkSJ_UfBSm7t"
   },
   "outputs": [],
   "source": []
  },
  {
   "cell_type": "code",
   "execution_count": null,
   "metadata": {
    "colab": {},
    "colab_type": "code",
    "id": "hlf5mGboSm7x"
   },
   "outputs": [],
   "source": []
  },
  {
   "cell_type": "code",
   "execution_count": null,
   "metadata": {
    "colab": {},
    "colab_type": "code",
    "id": "-cPpDycfSm71"
   },
   "outputs": [],
   "source": []
  },
  {
   "cell_type": "code",
   "execution_count": null,
   "metadata": {
    "colab": {},
    "colab_type": "code",
    "id": "xVKmmVz7Sm76"
   },
   "outputs": [],
   "source": []
  },
  {
   "cell_type": "code",
   "execution_count": 18,
   "metadata": {
    "colab": {
     "base_uri": "https://localhost:8080/",
     "height": 34
    },
    "colab_type": "code",
    "executionInfo": {
     "elapsed": 4371,
     "status": "ok",
     "timestamp": 1584365814428,
     "user": {
      "displayName": "hemanth kumar",
      "photoUrl": "https://lh3.googleusercontent.com/a-/AOh14GiaTFmdWzPcLac_44SS1Cs21rHx8agb-zmqGbdI=s64",
      "userId": "15204280836876127386"
     },
     "user_tz": -330
    },
    "id": "8LGivRfiSm7-",
    "outputId": "45379bf6-13d8-4251-9f37-02f65459f3a4"
   },
   "outputs": [
    {
     "name": "stdout",
     "output_type": "stream",
     "text": [
      "Requirement already satisfied: xlsxwriter in c:\\users\\nandi\\anaconda3\\lib\\site-packages (1.2.1)\n",
      "Note: you may need to restart the kernel to use updated packages.\n"
     ]
    }
   ],
   "source": [
    "pip install xlsxwriter"
   ]
  },
  {
   "cell_type": "code",
   "execution_count": 19,
   "metadata": {
    "colab": {},
    "colab_type": "code",
    "id": "BVtHoHBNSm8C"
   },
   "outputs": [],
   "source": [
    "import xlsxwriter"
   ]
  },
  {
   "cell_type": "code",
   "execution_count": 20,
   "metadata": {
    "colab": {
     "base_uri": "https://localhost:8080/",
     "height": 84
    },
    "colab_type": "code",
    "executionInfo": {
     "elapsed": 33989,
     "status": "ok",
     "timestamp": 1584365847304,
     "user": {
      "displayName": "hemanth kumar",
      "photoUrl": "https://lh3.googleusercontent.com/a-/AOh14GiaTFmdWzPcLac_44SS1Cs21rHx8agb-zmqGbdI=s64",
      "userId": "15204280836876127386"
     },
     "user_tz": -330
    },
    "id": "1eqiPSCASm8G",
    "outputId": "1c1fc142-1a41-4120-e37d-3592d01123c2"
   },
   "outputs": [
    {
     "name": "stdout",
     "output_type": "stream",
     "text": [
      "enter file name to save without_backlog list (with xlsx extension) w_o_b.xlsx\n",
      "enter file name to save with_backlog list (with xlsx extension) w_b.xlsx\n",
      "enter file name to save passed with_backlog list (with xlsx extension) p_w_b.xlsx\n",
      "enter file name to save detained list (with xlsx extension) d.xlsx\n"
     ]
    }
   ],
   "source": [
    "h=input(\"enter file name to save without_backlog list (with xlsx extension) \")\n",
    "w_o_b.to_excel(h)\n",
    "h=input(\"enter file name to save with_backlog list (with xlsx extension) \")\n",
    "w_b.to_excel(h)\n",
    "h=input(\"enter file name to save passed with_backlog list (with xlsx extension) \")\n",
    "p_w_b.to_excel(h)\n",
    "h=input(\"enter file name to save detained list (with xlsx extension) \")\n",
    "d.to_excel(h)"
   ]
  },
  {
   "cell_type": "code",
   "execution_count": null,
   "metadata": {
    "colab": {
     "base_uri": "https://localhost:8080/",
     "height": 121
    },
    "colab_type": "code",
    "executionInfo": {
     "elapsed": 141612,
     "status": "ok",
     "timestamp": 1584366005378,
     "user": {
      "displayName": "hemanth kumar",
      "photoUrl": "https://lh3.googleusercontent.com/a-/AOh14GiaTFmdWzPcLac_44SS1Cs21rHx8agb-zmqGbdI=s64",
      "userId": "15204280836876127386"
     },
     "user_tz": -330
    },
    "id": "YzUzgF_WkFvr",
    "outputId": "5c4a7869-a0e4-461e-ba43-be13266127f0"
   },
   "outputs": [],
   "source": []
  },
  {
   "cell_type": "code",
   "execution_count": null,
   "metadata": {
    "colab": {},
    "colab_type": "code",
    "id": "TPyySnRfSm8J"
   },
   "outputs": [],
   "source": []
  },
  {
   "cell_type": "code",
   "execution_count": null,
   "metadata": {
    "colab": {},
    "colab_type": "code",
    "id": "vRgWbd8CSm8M"
   },
   "outputs": [],
   "source": []
  }
 ],
 "metadata": {
  "colab": {
   "name": "final_4list.ipynb",
   "provenance": []
  },
  "kernelspec": {
   "display_name": "Python 3",
   "language": "python",
   "name": "python3"
  },
  "language_info": {
   "codemirror_mode": {
    "name": "ipython",
    "version": 3
   },
   "file_extension": ".py",
   "mimetype": "text/x-python",
   "name": "python",
   "nbconvert_exporter": "python",
   "pygments_lexer": "ipython3",
   "version": "3.7.4"
  }
 },
 "nbformat": 4,
 "nbformat_minor": 4
}
